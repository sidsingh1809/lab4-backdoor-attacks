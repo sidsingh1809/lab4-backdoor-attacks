{
  "nbformat": 4,
  "nbformat_minor": 0,
  "metadata": {
    "colab": {
      "provenance": [],
      "machine_shape": "hm",
      "gpuType": "T4"
    },
    "kernelspec": {
      "name": "python3",
      "display_name": "Python 3"
    },
    "language_info": {
      "name": "python"
    },
    "accelerator": "GPU"
  },
  "cells": [
    {
      "cell_type": "markdown",
      "source": [
        "# **Question Overview**\n",
        "\n",
        "In this HW you will design a backdoor detector for BadNets trained on the YouTube Face dataset using the pruning defense discussed in class. Your detector will take as input:\n",
        "1. B​, a backdoored neural network classifier with ​N​ classes.\n",
        "2. Dvalid​, a validation dataset of clean, labelled images.\n",
        "\n",
        "What you must output is ​G ​a “repaired” BadNet. ​G​ has N+1 classes, and given unseen test input, it must:\n",
        "1. Output the correct class if the test input is clean. The correct class will be in [1,N].\n",
        "2. Output class N+1 if the input is backdoored.\n",
        "\n",
        "You will design G using the pruning defense that we discussed in class. That is, you will prune the last pooling layer of BadNet B (the layer just before the FC layers) by removing one channel at a time from that layer. Channels should be removed in decreasing order of average activation values over the entire validation set. Every time you prune a channel, you will measure the new validation accuracy of the new pruned badnet. You will stop pruning once the validation accuracy drops atleast X% below the original accuracy. This will be your new network B'.\n",
        "Now, your goodnet G works as follows. For each test input, you will run it through both B and B'. If the classification outputs are the same, i.e., class i, you will output class i. If they differ you will output N+1. Evaluat this defense on:\n",
        "1. A BadNet, ​B1​ , (“sunglasses backdoor”) on YouTube Face for which we have already told you what the backdoor looks like. That is, we give you the validation data, and also test data with examples of clean and backdoored inputs.\n"
      ],
      "metadata": {
        "id": "e-W__SKdY4ut"
      }
    },
    {
      "cell_type": "code",
      "source": [
        "# Mounting doodle drive\n",
        "from google.colab import drive\n",
        "drive.mount('/content/drive')"
      ],
      "metadata": {
        "id": "qVm0sUdbC4uV",
        "colab": {
          "base_uri": "https://localhost:8080/"
        },
        "outputId": "a0cfaeac-6aee-40db-f114-120d43b1292c"
      },
      "execution_count": 1,
      "outputs": [
        {
          "output_type": "stream",
          "name": "stdout",
          "text": [
            "Mounted at /content/drive\n"
          ]
        }
      ]
    },
    {
      "cell_type": "code",
      "execution_count": 2,
      "metadata": {
        "id": "eCatPhPu84su",
        "colab": {
          "base_uri": "https://localhost:8080/"
        },
        "outputId": "a2aff671-f721-441e-f784-f5fd01fec416"
      },
      "outputs": [
        {
          "output_type": "stream",
          "name": "stdout",
          "text": [
            "Requirement already satisfied: tensorflow in /usr/local/lib/python3.10/dist-packages (2.14.0)\n",
            "Requirement already satisfied: absl-py>=1.0.0 in /usr/local/lib/python3.10/dist-packages (from tensorflow) (1.4.0)\n",
            "Requirement already satisfied: astunparse>=1.6.0 in /usr/local/lib/python3.10/dist-packages (from tensorflow) (1.6.3)\n",
            "Requirement already satisfied: flatbuffers>=23.5.26 in /usr/local/lib/python3.10/dist-packages (from tensorflow) (23.5.26)\n",
            "Requirement already satisfied: gast!=0.5.0,!=0.5.1,!=0.5.2,>=0.2.1 in /usr/local/lib/python3.10/dist-packages (from tensorflow) (0.5.4)\n",
            "Requirement already satisfied: google-pasta>=0.1.1 in /usr/local/lib/python3.10/dist-packages (from tensorflow) (0.2.0)\n",
            "Requirement already satisfied: h5py>=2.9.0 in /usr/local/lib/python3.10/dist-packages (from tensorflow) (3.9.0)\n",
            "Requirement already satisfied: libclang>=13.0.0 in /usr/local/lib/python3.10/dist-packages (from tensorflow) (16.0.6)\n",
            "Requirement already satisfied: ml-dtypes==0.2.0 in /usr/local/lib/python3.10/dist-packages (from tensorflow) (0.2.0)\n",
            "Requirement already satisfied: numpy>=1.23.5 in /usr/local/lib/python3.10/dist-packages (from tensorflow) (1.23.5)\n",
            "Requirement already satisfied: opt-einsum>=2.3.2 in /usr/local/lib/python3.10/dist-packages (from tensorflow) (3.3.0)\n",
            "Requirement already satisfied: packaging in /usr/local/lib/python3.10/dist-packages (from tensorflow) (23.2)\n",
            "Requirement already satisfied: protobuf!=4.21.0,!=4.21.1,!=4.21.2,!=4.21.3,!=4.21.4,!=4.21.5,<5.0.0dev,>=3.20.3 in /usr/local/lib/python3.10/dist-packages (from tensorflow) (3.20.3)\n",
            "Requirement already satisfied: setuptools in /usr/local/lib/python3.10/dist-packages (from tensorflow) (67.7.2)\n",
            "Requirement already satisfied: six>=1.12.0 in /usr/local/lib/python3.10/dist-packages (from tensorflow) (1.16.0)\n",
            "Requirement already satisfied: termcolor>=1.1.0 in /usr/local/lib/python3.10/dist-packages (from tensorflow) (2.3.0)\n",
            "Requirement already satisfied: typing-extensions>=3.6.6 in /usr/local/lib/python3.10/dist-packages (from tensorflow) (4.5.0)\n",
            "Requirement already satisfied: wrapt<1.15,>=1.11.0 in /usr/local/lib/python3.10/dist-packages (from tensorflow) (1.14.1)\n",
            "Requirement already satisfied: tensorflow-io-gcs-filesystem>=0.23.1 in /usr/local/lib/python3.10/dist-packages (from tensorflow) (0.34.0)\n",
            "Requirement already satisfied: grpcio<2.0,>=1.24.3 in /usr/local/lib/python3.10/dist-packages (from tensorflow) (1.59.3)\n",
            "Requirement already satisfied: tensorboard<2.15,>=2.14 in /usr/local/lib/python3.10/dist-packages (from tensorflow) (2.14.1)\n",
            "Requirement already satisfied: tensorflow-estimator<2.15,>=2.14.0 in /usr/local/lib/python3.10/dist-packages (from tensorflow) (2.14.0)\n",
            "Requirement already satisfied: keras<2.15,>=2.14.0 in /usr/local/lib/python3.10/dist-packages (from tensorflow) (2.14.0)\n",
            "Requirement already satisfied: wheel<1.0,>=0.23.0 in /usr/local/lib/python3.10/dist-packages (from astunparse>=1.6.0->tensorflow) (0.42.0)\n",
            "Requirement already satisfied: google-auth<3,>=1.6.3 in /usr/local/lib/python3.10/dist-packages (from tensorboard<2.15,>=2.14->tensorflow) (2.17.3)\n",
            "Requirement already satisfied: google-auth-oauthlib<1.1,>=0.5 in /usr/local/lib/python3.10/dist-packages (from tensorboard<2.15,>=2.14->tensorflow) (1.0.0)\n",
            "Requirement already satisfied: markdown>=2.6.8 in /usr/local/lib/python3.10/dist-packages (from tensorboard<2.15,>=2.14->tensorflow) (3.5.1)\n",
            "Requirement already satisfied: requests<3,>=2.21.0 in /usr/local/lib/python3.10/dist-packages (from tensorboard<2.15,>=2.14->tensorflow) (2.31.0)\n",
            "Requirement already satisfied: tensorboard-data-server<0.8.0,>=0.7.0 in /usr/local/lib/python3.10/dist-packages (from tensorboard<2.15,>=2.14->tensorflow) (0.7.2)\n",
            "Requirement already satisfied: werkzeug>=1.0.1 in /usr/local/lib/python3.10/dist-packages (from tensorboard<2.15,>=2.14->tensorflow) (3.0.1)\n",
            "Requirement already satisfied: cachetools<6.0,>=2.0.0 in /usr/local/lib/python3.10/dist-packages (from google-auth<3,>=1.6.3->tensorboard<2.15,>=2.14->tensorflow) (5.3.2)\n",
            "Requirement already satisfied: pyasn1-modules>=0.2.1 in /usr/local/lib/python3.10/dist-packages (from google-auth<3,>=1.6.3->tensorboard<2.15,>=2.14->tensorflow) (0.3.0)\n",
            "Requirement already satisfied: rsa<5,>=3.1.4 in /usr/local/lib/python3.10/dist-packages (from google-auth<3,>=1.6.3->tensorboard<2.15,>=2.14->tensorflow) (4.9)\n",
            "Requirement already satisfied: requests-oauthlib>=0.7.0 in /usr/local/lib/python3.10/dist-packages (from google-auth-oauthlib<1.1,>=0.5->tensorboard<2.15,>=2.14->tensorflow) (1.3.1)\n",
            "Requirement already satisfied: charset-normalizer<4,>=2 in /usr/local/lib/python3.10/dist-packages (from requests<3,>=2.21.0->tensorboard<2.15,>=2.14->tensorflow) (3.3.2)\n",
            "Requirement already satisfied: idna<4,>=2.5 in /usr/local/lib/python3.10/dist-packages (from requests<3,>=2.21.0->tensorboard<2.15,>=2.14->tensorflow) (3.6)\n",
            "Requirement already satisfied: urllib3<3,>=1.21.1 in /usr/local/lib/python3.10/dist-packages (from requests<3,>=2.21.0->tensorboard<2.15,>=2.14->tensorflow) (2.0.7)\n",
            "Requirement already satisfied: certifi>=2017.4.17 in /usr/local/lib/python3.10/dist-packages (from requests<3,>=2.21.0->tensorboard<2.15,>=2.14->tensorflow) (2023.11.17)\n",
            "Requirement already satisfied: MarkupSafe>=2.1.1 in /usr/local/lib/python3.10/dist-packages (from werkzeug>=1.0.1->tensorboard<2.15,>=2.14->tensorflow) (2.1.3)\n",
            "Requirement already satisfied: pyasn1<0.6.0,>=0.4.6 in /usr/local/lib/python3.10/dist-packages (from pyasn1-modules>=0.2.1->google-auth<3,>=1.6.3->tensorboard<2.15,>=2.14->tensorflow) (0.5.1)\n",
            "Requirement already satisfied: oauthlib>=3.0.0 in /usr/local/lib/python3.10/dist-packages (from requests-oauthlib>=0.7.0->google-auth-oauthlib<1.1,>=0.5->tensorboard<2.15,>=2.14->tensorflow) (3.2.2)\n"
          ]
        }
      ],
      "source": [
        "!pip install tensorflow"
      ]
    },
    {
      "cell_type": "code",
      "source": [
        "clean_valid_path= '/content/drive/MyDrive/backdoor-attacks/data/cl/valid.h5'\n",
        "bad_valid_path = '/content/drive/MyDrive/backdoor-attacks/data/bd/bd_valid.h5'\n",
        "bad_model_path ='/content/drive/MyDrive/backdoor-attacks/models/bd_net.h5'\n",
        "eval_path = '/content/drive/MyDrive/backdoor-attacks/eval.py'\n",
        "clean_test_path = '/content/drive/MyDrive/backdoor-attacks/data/cl/test.h5'\n",
        "bad_test_path = '/content/drive/MyDrive/backdoor-attacks/data/bd/bd_test.h5'"
      ],
      "metadata": {
        "id": "Nsg6QtM49NJe"
      },
      "execution_count": 3,
      "outputs": []
    },
    {
      "cell_type": "code",
      "source": [
        "import h5py\n",
        "import numpy as np\n",
        "import tensorflow as tf\n",
        "import keras\n",
        "\n",
        "def load_data(filepath):\n",
        "    data = h5py.File(filepath, 'r')\n",
        "    x = np.array(data['data'])\n",
        "    y = np.array(data['label'])\n",
        "    x = x.transpose((0,2,3,1))\n",
        "    return x, y\n",
        "\n",
        "# Load the datasets\n",
        "x_clean, y_clean = load_data(clean_valid_path)\n",
        "x_bd, y_bd = load_data(bad_valid_path)\n"
      ],
      "metadata": {
        "id": "0k8RbQUb9OgC"
      },
      "execution_count": 4,
      "outputs": []
    },
    {
      "cell_type": "code",
      "source": [
        "from keras.models import load_model\n",
        "\n",
        "# Loading badnet madel\n",
        "badnet = load_model(bad_model_path)\n"
      ],
      "metadata": {
        "id": "uLKUhv7E9Qbe"
      },
      "execution_count": 5,
      "outputs": []
    },
    {
      "cell_type": "code",
      "source": [
        "output_layer_shape = badnet.output_shape\n",
        "\n",
        "N = output_layer_shape[-1]\n",
        "\n",
        "print(f\"Number of classes (N) is: {N}\")"
      ],
      "metadata": {
        "id": "wJl8h-s09SU1",
        "colab": {
          "base_uri": "https://localhost:8080/"
        },
        "outputId": "7d5f5939-7d40-4fb9-cc23-92ccc032bad0"
      },
      "execution_count": 6,
      "outputs": [
        {
          "output_type": "stream",
          "name": "stdout",
          "text": [
            "Number of classes (N) is: 1283\n"
          ]
        }
      ]
    },
    {
      "cell_type": "code",
      "source": [
        "%cd /content/drive/MyDrive/backdoor-attacks\n",
        "!python3 eval.py data/cl/test.h5 data/bd/bd_test.h5 models/bd_net.h5\n"
      ],
      "metadata": {
        "id": "DXtiEMS49U_j",
        "colab": {
          "base_uri": "https://localhost:8080/"
        },
        "outputId": "11269601-6869-40e2-bf6a-1354de5fc79d"
      },
      "execution_count": 7,
      "outputs": [
        {
          "output_type": "stream",
          "name": "stdout",
          "text": [
            "/content/drive/MyDrive/backdoor-attacks\n",
            "2023-12-05 01:54:47.409836: E tensorflow/compiler/xla/stream_executor/cuda/cuda_dnn.cc:9342] Unable to register cuDNN factory: Attempting to register factory for plugin cuDNN when one has already been registered\n",
            "2023-12-05 01:54:47.409893: E tensorflow/compiler/xla/stream_executor/cuda/cuda_fft.cc:609] Unable to register cuFFT factory: Attempting to register factory for plugin cuFFT when one has already been registered\n",
            "2023-12-05 01:54:47.409917: E tensorflow/compiler/xla/stream_executor/cuda/cuda_blas.cc:1518] Unable to register cuBLAS factory: Attempting to register factory for plugin cuBLAS when one has already been registered\n",
            "2023-12-05 01:54:48.548188: W tensorflow/compiler/tf2tensorrt/utils/py_utils.cc:38] TF-TRT Warning: Could not find TensorRT\n",
            "2023-12-05 01:54:59.679670: W tensorflow/core/common_runtime/gpu/gpu_bfc_allocator.cc:47] Overriding orig_value setting because the TF_FORCE_GPU_ALLOW_GROWTH environment variable is set. Original config value was 0.\n",
            "401/401 [==============================] - 8s 2ms/step\n",
            "Clean Classification accuracy: 98.62042088854248\n",
            "401/401 [==============================] - 1s 2ms/step\n",
            "Attack Success Rate: 100.0\n"
          ]
        }
      ]
    },
    {
      "cell_type": "code",
      "source": [
        "print(badnet.summary())"
      ],
      "metadata": {
        "id": "R4UU605t9VkR",
        "colab": {
          "base_uri": "https://localhost:8080/"
        },
        "outputId": "54575af1-10d2-4e78-e701-62103d0614a0"
      },
      "execution_count": 8,
      "outputs": [
        {
          "output_type": "stream",
          "name": "stdout",
          "text": [
            "Model: \"model_1\"\n",
            "__________________________________________________________________________________________________\n",
            " Layer (type)                Output Shape                 Param #   Connected to                  \n",
            "==================================================================================================\n",
            " input (InputLayer)          [(None, 55, 47, 3)]          0         []                            \n",
            "                                                                                                  \n",
            " conv_1 (Conv2D)             (None, 52, 44, 20)           980       ['input[0][0]']               \n",
            "                                                                                                  \n",
            " pool_1 (MaxPooling2D)       (None, 26, 22, 20)           0         ['conv_1[0][0]']              \n",
            "                                                                                                  \n",
            " conv_2 (Conv2D)             (None, 24, 20, 40)           7240      ['pool_1[0][0]']              \n",
            "                                                                                                  \n",
            " pool_2 (MaxPooling2D)       (None, 12, 10, 40)           0         ['conv_2[0][0]']              \n",
            "                                                                                                  \n",
            " conv_3 (Conv2D)             (None, 10, 8, 60)            21660     ['pool_2[0][0]']              \n",
            "                                                                                                  \n",
            " pool_3 (MaxPooling2D)       (None, 5, 4, 60)             0         ['conv_3[0][0]']              \n",
            "                                                                                                  \n",
            " conv_4 (Conv2D)             (None, 4, 3, 80)             19280     ['pool_3[0][0]']              \n",
            "                                                                                                  \n",
            " flatten_1 (Flatten)         (None, 1200)                 0         ['pool_3[0][0]']              \n",
            "                                                                                                  \n",
            " flatten_2 (Flatten)         (None, 960)                  0         ['conv_4[0][0]']              \n",
            "                                                                                                  \n",
            " fc_1 (Dense)                (None, 160)                  192160    ['flatten_1[0][0]']           \n",
            "                                                                                                  \n",
            " fc_2 (Dense)                (None, 160)                  153760    ['flatten_2[0][0]']           \n",
            "                                                                                                  \n",
            " add_1 (Add)                 (None, 160)                  0         ['fc_1[0][0]',                \n",
            "                                                                     'fc_2[0][0]']                \n",
            "                                                                                                  \n",
            " activation_1 (Activation)   (None, 160)                  0         ['add_1[0][0]']               \n",
            "                                                                                                  \n",
            " output (Dense)              (None, 1283)                 206563    ['activation_1[0][0]']        \n",
            "                                                                                                  \n",
            "==================================================================================================\n",
            "Total params: 601643 (2.30 MB)\n",
            "Trainable params: 601643 (2.30 MB)\n",
            "Non-trainable params: 0 (0.00 Byte)\n",
            "__________________________________________________________________________________________________\n",
            "None\n"
          ]
        }
      ]
    },
    {
      "cell_type": "markdown",
      "source": [
        "This segment of the code defines the prune_and_eval function, which is crucial for enhancing the robustness of neural network models against backdoor attacks. The function systematically prunes a given model by disabling channels in a convolutional layer. After each pruning step, it evaluates the model's performance on both clean and poisoned datasets. The function records the model's accuracy at each step, and if the accuracy drops below specified thresholds, it saves the pruned model. This approach helps in understanding the trade-off between model complexity and its vulnerability to attacks."
      ],
      "metadata": {
        "id": "051pHR26eMOc"
      }
    },
    {
      "cell_type": "code",
      "source": [
        "from tqdm import tqdm\n",
        "import keras\n",
        "import numpy as np\n",
        "\n",
        "clean_accuracies = []\n",
        "attack_success_rates = []\n",
        "\n",
        "def prune_and_eval(model, clean_x, clean_y, bd_x, bd_y, clean_data_accuracy, pruning_thresholds):\n",
        "    \"\"\"\n",
        "    Prunes a given neural network model by iteratively disabling channels in a convolutional layer\n",
        "    and evaluates its performance on clean and backdoored data.\n",
        "\n",
        "    Parameters:\n",
        "    - model: The neural network model to be pruned.\n",
        "    - clean_x: Clean input data.\n",
        "    - clean_y: Labels for clean data.\n",
        "    - bd_x: Backdoored input data.\n",
        "    - bd_y: Labels for backdoored data.\n",
        "    - clean_data_accuracy: The model's accuracy on clean data before pruning.\n",
        "    - pruning_thresholds: Thresholds to determine significant accuracy drop.\n",
        "\n",
        "    Returns:\n",
        "    - saved_model_names: Names of models saved during pruning at different thresholds.\n",
        "    \"\"\"\n",
        "\n",
        "    # Clone the original model to keep it unaffected during pruning\n",
        "    cloned_model = keras.models.clone_model(model)\n",
        "    cloned_model.set_weights(model.get_weights())\n",
        "\n",
        "    # Getting the output of a specific intermediate layer\n",
        "    intermediate_layer_output = cloned_model.get_layer('pool_3').output\n",
        "    intermediate_model = keras.models.Model(inputs=cloned_model.input, outputs=intermediate_layer_output)\n",
        "\n",
        "    # Generating intermediate predictions for clean data\n",
        "    intermediate_predictions = intermediate_model.predict(clean_x)\n",
        "    # Averaging over predictions to determine channel importance\n",
        "    mean_intermediate_output = np.mean(intermediate_predictions, axis=(0, 1, 2))\n",
        "    # Sorting indices by importance\n",
        "    sorted_indices = np.argsort(mean_intermediate_output)\n",
        "\n",
        "    # Extracting weights and biases from a specific convolutional layer\n",
        "    conv_weights, conv_biases = cloned_model.layers[5].get_weights()\n",
        "\n",
        "    # Tracking which models have been saved for each threshold\n",
        "    models_saved = np.zeros(len(pruning_thresholds), dtype=bool)\n",
        "    saved_model_names = []  # Names of the saved models\n",
        "\n",
        "    # Iteratively prune each channel and evaluate the model\n",
        "    for channel_idx in tqdm(sorted_indices):\n",
        "        # Zero out the weights and biases of the current channel\n",
        "        conv_weights[:, :, :, channel_idx] = 0\n",
        "        conv_biases[channel_idx] = 0\n",
        "        cloned_model.layers[5].set_weights([conv_weights, conv_biases])\n",
        "\n",
        "        # Evaluate model on clean data\n",
        "        predicted_labels_clean = np.argmax(cloned_model.predict(clean_x), axis=1)\n",
        "        accuracy_clean = np.mean(np.equal(predicted_labels_clean, clean_y)) * 100\n",
        "\n",
        "        # Evaluate model on backdoored data\n",
        "        predicted_labels_attack = np.argmax(cloned_model.predict(bd_x), axis=1)\n",
        "        success_rate_attack = np.mean(np.equal(predicted_labels_attack, bd_y)) * 100\n",
        "\n",
        "        # Update accuracy lists for each pruning iteration\n",
        "        clean_accuracies.append(accuracy_clean)\n",
        "        attack_success_rates.append(success_rate_attack)\n",
        "\n",
        "        # Print performance metrics for the current pruning iteration\n",
        "        print(f\"\\nClean Data Accuracy: {accuracy_clean}%\")\n",
        "        print(f\"Attack Success Rate: {success_rate_attack}%\")\n",
        "        print(f\"Pruned Channel Index: {channel_idx}\")\n",
        "\n",
        "        # Check if the accuracy drop has reached any of the specified thresholds\n",
        "        for idx, threshold in enumerate(pruning_thresholds):\n",
        "            if clean_data_accuracy - accuracy_clean >= threshold * 100 and not models_saved[idx]:\n",
        "                # Saving the model if the drop in accuracy crosses the threshold\n",
        "                model_filename = f'model_X={threshold*100}.h5'\n",
        "                print(f\"Accuracy drop ≥ {threshold*100}%. Saving model as '{model_filename}'\")\n",
        "                cloned_model.save(model_filename)\n",
        "                models_saved[idx] = True\n",
        "                saved_model_names.append(model_filename)\n",
        "                break  # Avoid saving at lower thresholds once a higher threshold is met\n",
        "\n",
        "        # Clear the session to free up memory and resources\n",
        "        keras.backend.clear_session()\n",
        "\n",
        "    return saved_model_names"
      ],
      "metadata": {
        "id": "Qy99uH8h9YuY"
      },
      "execution_count": 9,
      "outputs": []
    },
    {
      "cell_type": "code",
      "source": [
        "def evaluate_model(model, x_test, y_test):\n",
        "    prediction = model.predict(x_test)\n",
        "    # Calculate the accuracy\n",
        "    # np.argmax(prediction, axis=1) converts predicted probabilities to class labels\n",
        "    # The accuracy is computed as the mean of correct predictions\n",
        "    accuracy = np.mean(np.argmax(prediction, axis=1) == y_test)\n",
        "    return accuracy\n"
      ],
      "metadata": {
        "id": "YjdopRfD9ah1"
      },
      "execution_count": 10,
      "outputs": []
    },
    {
      "cell_type": "code",
      "source": [
        "#Calculating accuracy on badnet\n",
        "clean_data_accuracy = evaluate_model(badnet, x_clean, y_clean)\n",
        "print('Accuracy:{}'.format(clean_data_accuracy))"
      ],
      "metadata": {
        "id": "JL1i9te89e01",
        "colab": {
          "base_uri": "https://localhost:8080/"
        },
        "outputId": "a8cf961d-0975-4dbd-ef1d-7cc8817b2252"
      },
      "execution_count": 11,
      "outputs": [
        {
          "output_type": "stream",
          "name": "stdout",
          "text": [
            "361/361 [==============================] - 3s 2ms/step\n",
            "Accuracy:0.9864899974019226\n"
          ]
        }
      ]
    },
    {
      "cell_type": "code",
      "source": [
        "threshold = [0.02, 0.04, 0.10]  # 2%, 4%, and 10%\n",
        "pruned_models = prune_and_eval(badnet, x_clean, y_clean, x_bd, y_bd, clean_data_accuracy * 100, threshold)"
      ],
      "metadata": {
        "id": "340n1YeU9gUa",
        "colab": {
          "base_uri": "https://localhost:8080/"
        },
        "outputId": "abdd7481-56c0-455b-b576-aee2addc465a"
      },
      "execution_count": 12,
      "outputs": [
        {
          "output_type": "stream",
          "name": "stdout",
          "text": [
            "361/361 [==============================] - 1s 2ms/step\n"
          ]
        },
        {
          "output_type": "stream",
          "name": "stderr",
          "text": [
            "\r  0%|          | 0/60 [00:00<?, ?it/s]"
          ]
        },
        {
          "output_type": "stream",
          "name": "stdout",
          "text": [
            "361/361 [==============================] - 1s 2ms/step\n",
            "361/361 [==============================] - 1s 2ms/step\n",
            "\n",
            "Clean Data Accuracy: 98.64899974019225%\n",
            "Attack Success Rate: 100.0%\n",
            "Pruned Channel Index: 0\n"
          ]
        },
        {
          "output_type": "stream",
          "name": "stderr",
          "text": [
            "\r  2%|▏         | 1/60 [00:03<03:55,  3.99s/it]"
          ]
        },
        {
          "output_type": "stream",
          "name": "stdout",
          "text": [
            "361/361 [==============================] - 1s 2ms/step\n",
            "361/361 [==============================] - 1s 2ms/step\n"
          ]
        },
        {
          "output_type": "stream",
          "name": "stderr",
          "text": [
            "\r  3%|▎         | 2/60 [00:07<03:51,  3.98s/it]"
          ]
        },
        {
          "output_type": "stream",
          "name": "stdout",
          "text": [
            "\n",
            "Clean Data Accuracy: 98.64899974019225%\n",
            "Attack Success Rate: 100.0%\n",
            "Pruned Channel Index: 26\n",
            "361/361 [==============================] - 1s 2ms/step\n",
            "361/361 [==============================] - 1s 2ms/step\n"
          ]
        },
        {
          "output_type": "stream",
          "name": "stderr",
          "text": [
            "\r  5%|▌         | 3/60 [00:11<03:46,  3.97s/it]"
          ]
        },
        {
          "output_type": "stream",
          "name": "stdout",
          "text": [
            "\n",
            "Clean Data Accuracy: 98.64899974019225%\n",
            "Attack Success Rate: 100.0%\n",
            "Pruned Channel Index: 27\n",
            "361/361 [==============================] - 1s 2ms/step\n",
            "361/361 [==============================] - 1s 2ms/step\n",
            "\n",
            "Clean Data Accuracy: 98.64899974019225%\n",
            "Attack Success Rate: 100.0%\n",
            "Pruned Channel Index: 30\n"
          ]
        },
        {
          "output_type": "stream",
          "name": "stderr",
          "text": [
            "\r  7%|▋         | 4/60 [00:15<03:42,  3.98s/it]"
          ]
        },
        {
          "output_type": "stream",
          "name": "stdout",
          "text": [
            "361/361 [==============================] - 1s 2ms/step\n",
            "361/361 [==============================] - 1s 2ms/step\n",
            "\n",
            "Clean Data Accuracy: 98.64899974019225%\n",
            "Attack Success Rate: 100.0%\n",
            "Pruned Channel Index: 31\n"
          ]
        },
        {
          "output_type": "stream",
          "name": "stderr",
          "text": [
            "\r  8%|▊         | 5/60 [00:19<03:38,  3.97s/it]"
          ]
        },
        {
          "output_type": "stream",
          "name": "stdout",
          "text": [
            "361/361 [==============================] - 1s 2ms/step\n",
            "361/361 [==============================] - 1s 2ms/step\n"
          ]
        },
        {
          "output_type": "stream",
          "name": "stderr",
          "text": [
            "\r 10%|█         | 6/60 [00:23<03:35,  3.99s/it]"
          ]
        },
        {
          "output_type": "stream",
          "name": "stdout",
          "text": [
            "\n",
            "Clean Data Accuracy: 98.64899974019225%\n",
            "Attack Success Rate: 100.0%\n",
            "Pruned Channel Index: 33\n",
            "361/361 [==============================] - 1s 2ms/step\n",
            "361/361 [==============================] - 1s 2ms/step\n"
          ]
        },
        {
          "output_type": "stream",
          "name": "stderr",
          "text": [
            "\r 12%|█▏        | 7/60 [00:27<03:31,  4.00s/it]"
          ]
        },
        {
          "output_type": "stream",
          "name": "stdout",
          "text": [
            "\n",
            "Clean Data Accuracy: 98.64899974019225%\n",
            "Attack Success Rate: 100.0%\n",
            "Pruned Channel Index: 34\n",
            "361/361 [==============================] - 1s 2ms/step\n",
            "361/361 [==============================] - 1s 2ms/step\n"
          ]
        },
        {
          "output_type": "stream",
          "name": "stderr",
          "text": [
            "\r 13%|█▎        | 8/60 [00:31<03:27,  3.99s/it]"
          ]
        },
        {
          "output_type": "stream",
          "name": "stdout",
          "text": [
            "\n",
            "Clean Data Accuracy: 98.64899974019225%\n",
            "Attack Success Rate: 100.0%\n",
            "Pruned Channel Index: 36\n",
            "361/361 [==============================] - 1s 2ms/step\n",
            "361/361 [==============================] - 1s 2ms/step\n",
            "\n",
            "Clean Data Accuracy: 98.64899974019225%\n",
            "Attack Success Rate: 100.0%\n",
            "Pruned Channel Index: 37\n"
          ]
        },
        {
          "output_type": "stream",
          "name": "stderr",
          "text": [
            "\r 15%|█▌        | 9/60 [00:35<03:25,  4.03s/it]"
          ]
        },
        {
          "output_type": "stream",
          "name": "stdout",
          "text": [
            "361/361 [==============================] - 1s 2ms/step\n",
            "361/361 [==============================] - 1s 2ms/step\n"
          ]
        },
        {
          "output_type": "stream",
          "name": "stderr",
          "text": [
            "\r 17%|█▋        | 10/60 [00:39<03:20,  4.02s/it]"
          ]
        },
        {
          "output_type": "stream",
          "name": "stdout",
          "text": [
            "\n",
            "Clean Data Accuracy: 98.64899974019225%\n",
            "Attack Success Rate: 100.0%\n",
            "Pruned Channel Index: 38\n",
            "361/361 [==============================] - 1s 2ms/step\n",
            "361/361 [==============================] - 1s 2ms/step\n",
            "\n",
            "Clean Data Accuracy: 98.64899974019225%\n",
            "Attack Success Rate: 100.0%\n",
            "Pruned Channel Index: 25\n"
          ]
        },
        {
          "output_type": "stream",
          "name": "stderr",
          "text": [
            "\r 18%|█▊        | 11/60 [00:44<03:17,  4.02s/it]"
          ]
        },
        {
          "output_type": "stream",
          "name": "stdout",
          "text": [
            "361/361 [==============================] - 1s 2ms/step\n",
            "361/361 [==============================] - 1s 2ms/step\n"
          ]
        },
        {
          "output_type": "stream",
          "name": "stderr",
          "text": [
            "\r 20%|██        | 12/60 [00:48<03:12,  4.01s/it]"
          ]
        },
        {
          "output_type": "stream",
          "name": "stdout",
          "text": [
            "\n",
            "Clean Data Accuracy: 98.64899974019225%\n",
            "Attack Success Rate: 100.0%\n",
            "Pruned Channel Index: 39\n",
            "361/361 [==============================] - 1s 2ms/step\n",
            "361/361 [==============================] - 1s 2ms/step\n",
            "\n",
            "Clean Data Accuracy: 98.64899974019225%\n",
            "Attack Success Rate: 100.0%\n",
            "Pruned Channel Index: 41\n"
          ]
        },
        {
          "output_type": "stream",
          "name": "stderr",
          "text": [
            "\r 22%|██▏       | 13/60 [00:52<03:08,  4.01s/it]"
          ]
        },
        {
          "output_type": "stream",
          "name": "stdout",
          "text": [
            "361/361 [==============================] - 1s 2ms/step\n",
            "361/361 [==============================] - 1s 2ms/step\n",
            "\n",
            "Clean Data Accuracy: 98.64899974019225%\n",
            "Attack Success Rate: 100.0%\n",
            "Pruned Channel Index: 44\n"
          ]
        },
        {
          "output_type": "stream",
          "name": "stderr",
          "text": [
            "\r 23%|██▎       | 14/60 [00:56<03:04,  4.01s/it]"
          ]
        },
        {
          "output_type": "stream",
          "name": "stdout",
          "text": [
            "361/361 [==============================] - 1s 2ms/step\n",
            "361/361 [==============================] - 1s 2ms/step\n"
          ]
        },
        {
          "output_type": "stream",
          "name": "stderr",
          "text": [
            "\r 25%|██▌       | 15/60 [00:59<02:59,  3.99s/it]"
          ]
        },
        {
          "output_type": "stream",
          "name": "stdout",
          "text": [
            "\n",
            "Clean Data Accuracy: 98.64899974019225%\n",
            "Attack Success Rate: 100.0%\n",
            "Pruned Channel Index: 45\n",
            "361/361 [==============================] - 1s 2ms/step\n",
            "361/361 [==============================] - 1s 2ms/step\n"
          ]
        },
        {
          "output_type": "stream",
          "name": "stderr",
          "text": [
            "\r 27%|██▋       | 16/60 [01:03<02:55,  3.98s/it]"
          ]
        },
        {
          "output_type": "stream",
          "name": "stdout",
          "text": [
            "\n",
            "Clean Data Accuracy: 98.64899974019225%\n",
            "Attack Success Rate: 100.0%\n",
            "Pruned Channel Index: 47\n",
            "361/361 [==============================] - 1s 2ms/step\n",
            "361/361 [==============================] - 1s 2ms/step\n",
            "\n",
            "Clean Data Accuracy: 98.64899974019225%\n",
            "Attack Success Rate: 100.0%\n",
            "Pruned Channel Index: 48\n"
          ]
        },
        {
          "output_type": "stream",
          "name": "stderr",
          "text": [
            "\r 28%|██▊       | 17/60 [01:07<02:51,  3.98s/it]"
          ]
        },
        {
          "output_type": "stream",
          "name": "stdout",
          "text": [
            "361/361 [==============================] - 1s 2ms/step\n",
            "361/361 [==============================] - 1s 2ms/step\n"
          ]
        },
        {
          "output_type": "stream",
          "name": "stderr",
          "text": [
            "\r 30%|███       | 18/60 [01:11<02:48,  4.00s/it]"
          ]
        },
        {
          "output_type": "stream",
          "name": "stdout",
          "text": [
            "\n",
            "Clean Data Accuracy: 98.64899974019225%\n",
            "Attack Success Rate: 100.0%\n",
            "Pruned Channel Index: 49\n",
            "361/361 [==============================] - 1s 2ms/step\n",
            "361/361 [==============================] - 1s 2ms/step\n"
          ]
        },
        {
          "output_type": "stream",
          "name": "stderr",
          "text": [
            "\r 32%|███▏      | 19/60 [01:16<02:44,  4.02s/it]"
          ]
        },
        {
          "output_type": "stream",
          "name": "stdout",
          "text": [
            "\n",
            "Clean Data Accuracy: 98.64899974019225%\n",
            "Attack Success Rate: 100.0%\n",
            "Pruned Channel Index: 50\n",
            "361/361 [==============================] - 1s 2ms/step\n",
            "361/361 [==============================] - 1s 2ms/step\n",
            "\n",
            "Clean Data Accuracy: 98.64899974019225%\n",
            "Attack Success Rate: 100.0%\n",
            "Pruned Channel Index: 53\n"
          ]
        },
        {
          "output_type": "stream",
          "name": "stderr",
          "text": [
            "\r 33%|███▎      | 20/60 [01:20<02:40,  4.02s/it]"
          ]
        },
        {
          "output_type": "stream",
          "name": "stdout",
          "text": [
            "361/361 [==============================] - 1s 2ms/step\n",
            "361/361 [==============================] - 1s 2ms/step\n",
            "\n",
            "Clean Data Accuracy: 98.64899974019225%\n",
            "Attack Success Rate: 100.0%\n",
            "Pruned Channel Index: 55\n"
          ]
        },
        {
          "output_type": "stream",
          "name": "stderr",
          "text": [
            "\r 35%|███▌      | 21/60 [01:24<02:37,  4.05s/it]"
          ]
        },
        {
          "output_type": "stream",
          "name": "stdout",
          "text": [
            "361/361 [==============================] - 1s 2ms/step\n",
            "361/361 [==============================] - 1s 2ms/step\n",
            "\n",
            "Clean Data Accuracy: 98.64899974019225%\n",
            "Attack Success Rate: 100.0%\n",
            "Pruned Channel Index: 40\n"
          ]
        },
        {
          "output_type": "stream",
          "name": "stderr",
          "text": [
            "\r 37%|███▋      | 22/60 [01:28<02:33,  4.05s/it]"
          ]
        },
        {
          "output_type": "stream",
          "name": "stdout",
          "text": [
            "361/361 [==============================] - 1s 2ms/step\n",
            "361/361 [==============================] - 1s 2ms/step\n",
            "\n",
            "Clean Data Accuracy: 98.64899974019225%\n",
            "Attack Success Rate: 100.0%\n",
            "Pruned Channel Index: 24\n"
          ]
        },
        {
          "output_type": "stream",
          "name": "stderr",
          "text": [
            "\r 38%|███▊      | 23/60 [01:32<02:29,  4.04s/it]"
          ]
        },
        {
          "output_type": "stream",
          "name": "stdout",
          "text": [
            "361/361 [==============================] - 1s 2ms/step\n",
            "361/361 [==============================] - 1s 2ms/step\n",
            "\n",
            "Clean Data Accuracy: 98.64899974019225%\n",
            "Attack Success Rate: 100.0%\n",
            "Pruned Channel Index: 59\n"
          ]
        },
        {
          "output_type": "stream",
          "name": "stderr",
          "text": [
            "\r 40%|████      | 24/60 [01:36<02:26,  4.07s/it]"
          ]
        },
        {
          "output_type": "stream",
          "name": "stdout",
          "text": [
            "361/361 [==============================] - 1s 2ms/step\n",
            "361/361 [==============================] - 1s 2ms/step\n"
          ]
        },
        {
          "output_type": "stream",
          "name": "stderr",
          "text": [
            "\r 42%|████▏     | 25/60 [01:40<02:21,  4.05s/it]"
          ]
        },
        {
          "output_type": "stream",
          "name": "stdout",
          "text": [
            "\n",
            "Clean Data Accuracy: 98.64899974019225%\n",
            "Attack Success Rate: 100.0%\n",
            "Pruned Channel Index: 9\n",
            "361/361 [==============================] - 1s 2ms/step\n",
            "361/361 [==============================] - 1s 2ms/step\n",
            "\n",
            "Clean Data Accuracy: 98.64899974019225%\n",
            "Attack Success Rate: 100.0%\n",
            "Pruned Channel Index: 2\n"
          ]
        },
        {
          "output_type": "stream",
          "name": "stderr",
          "text": [
            "\r 43%|████▎     | 26/60 [01:44<02:16,  4.03s/it]"
          ]
        },
        {
          "output_type": "stream",
          "name": "stdout",
          "text": [
            "361/361 [==============================] - 1s 2ms/step\n",
            "361/361 [==============================] - 1s 2ms/step\n"
          ]
        },
        {
          "output_type": "stream",
          "name": "stderr",
          "text": [
            "\r 45%|████▌     | 27/60 [01:48<02:13,  4.05s/it]"
          ]
        },
        {
          "output_type": "stream",
          "name": "stdout",
          "text": [
            "\n",
            "Clean Data Accuracy: 98.64899974019225%\n",
            "Attack Success Rate: 100.0%\n",
            "Pruned Channel Index: 12\n",
            "361/361 [==============================] - 1s 2ms/step\n",
            "361/361 [==============================] - 1s 2ms/step\n",
            "\n",
            "Clean Data Accuracy: 98.64899974019225%\n",
            "Attack Success Rate: 100.0%\n",
            "Pruned Channel Index: 13\n"
          ]
        },
        {
          "output_type": "stream",
          "name": "stderr",
          "text": [
            "\r 47%|████▋     | 28/60 [01:52<02:09,  4.05s/it]"
          ]
        },
        {
          "output_type": "stream",
          "name": "stdout",
          "text": [
            "361/361 [==============================] - 1s 2ms/step\n",
            "361/361 [==============================] - 1s 2ms/step\n"
          ]
        },
        {
          "output_type": "stream",
          "name": "stderr",
          "text": [
            "\r 48%|████▊     | 29/60 [01:56<02:04,  4.02s/it]"
          ]
        },
        {
          "output_type": "stream",
          "name": "stdout",
          "text": [
            "\n",
            "Clean Data Accuracy: 98.64899974019225%\n",
            "Attack Success Rate: 100.0%\n",
            "Pruned Channel Index: 17\n",
            "361/361 [==============================] - 1s 2ms/step\n",
            "361/361 [==============================] - 1s 2ms/step\n",
            "\n",
            "Clean Data Accuracy: 98.64899974019225%\n",
            "Attack Success Rate: 100.0%\n",
            "Pruned Channel Index: 14\n"
          ]
        },
        {
          "output_type": "stream",
          "name": "stderr",
          "text": [
            "\r 50%|█████     | 30/60 [02:00<02:00,  4.02s/it]"
          ]
        },
        {
          "output_type": "stream",
          "name": "stdout",
          "text": [
            "361/361 [==============================] - 1s 2ms/step\n",
            "361/361 [==============================] - 1s 2ms/step\n",
            "\n",
            "Clean Data Accuracy: 98.64899974019225%\n",
            "Attack Success Rate: 100.0%\n",
            "Pruned Channel Index: 15\n"
          ]
        },
        {
          "output_type": "stream",
          "name": "stderr",
          "text": [
            "\r 52%|█████▏    | 31/60 [02:04<01:56,  4.02s/it]"
          ]
        },
        {
          "output_type": "stream",
          "name": "stdout",
          "text": [
            "361/361 [==============================] - 1s 2ms/step\n",
            "361/361 [==============================] - 1s 2ms/step\n",
            "\n",
            "Clean Data Accuracy: 98.64899974019225%\n",
            "Attack Success Rate: 100.0%\n",
            "Pruned Channel Index: 23\n"
          ]
        },
        {
          "output_type": "stream",
          "name": "stderr",
          "text": [
            "\r 53%|█████▎    | 32/60 [02:08<01:52,  4.01s/it]"
          ]
        },
        {
          "output_type": "stream",
          "name": "stdout",
          "text": [
            "361/361 [==============================] - 1s 2ms/step\n",
            "361/361 [==============================] - 1s 2ms/step\n",
            "\n",
            "Clean Data Accuracy: 98.64899974019225%\n",
            "Attack Success Rate: 100.0%\n",
            "Pruned Channel Index: 6\n"
          ]
        },
        {
          "output_type": "stream",
          "name": "stderr",
          "text": [
            "\r 55%|█████▌    | 33/60 [02:12<01:48,  4.03s/it]"
          ]
        },
        {
          "output_type": "stream",
          "name": "stdout",
          "text": [
            "361/361 [==============================] - 1s 2ms/step\n",
            "361/361 [==============================] - 1s 2ms/step\n"
          ]
        },
        {
          "output_type": "stream",
          "name": "stderr",
          "text": [
            "\r 57%|█████▋    | 34/60 [02:16<01:44,  4.03s/it]"
          ]
        },
        {
          "output_type": "stream",
          "name": "stdout",
          "text": [
            "\n",
            "Clean Data Accuracy: 98.64033948211657%\n",
            "Attack Success Rate: 100.0%\n",
            "Pruned Channel Index: 51\n",
            "361/361 [==============================] - 1s 2ms/step\n",
            "361/361 [==============================] - 1s 2ms/step\n",
            "\n",
            "Clean Data Accuracy: 98.64033948211657%\n",
            "Attack Success Rate: 100.0%\n",
            "Pruned Channel Index: 32\n"
          ]
        },
        {
          "output_type": "stream",
          "name": "stderr",
          "text": [
            "\r 58%|█████▊    | 35/60 [02:20<01:40,  4.02s/it]"
          ]
        },
        {
          "output_type": "stream",
          "name": "stdout",
          "text": [
            "361/361 [==============================] - 1s 2ms/step\n",
            "361/361 [==============================] - 1s 2ms/step\n",
            "\n",
            "Clean Data Accuracy: 98.63167922404088%\n",
            "Attack Success Rate: 100.0%\n",
            "Pruned Channel Index: 22\n"
          ]
        },
        {
          "output_type": "stream",
          "name": "stderr",
          "text": [
            "\r 60%|██████    | 36/60 [02:24<01:37,  4.04s/it]"
          ]
        },
        {
          "output_type": "stream",
          "name": "stdout",
          "text": [
            "361/361 [==============================] - 1s 2ms/step\n",
            "361/361 [==============================] - 1s 2ms/step\n",
            "\n",
            "Clean Data Accuracy: 98.65765999826795%\n",
            "Attack Success Rate: 100.0%\n",
            "Pruned Channel Index: 21\n"
          ]
        },
        {
          "output_type": "stream",
          "name": "stderr",
          "text": [
            "\r 62%|██████▏   | 37/60 [02:28<01:33,  4.04s/it]"
          ]
        },
        {
          "output_type": "stream",
          "name": "stdout",
          "text": [
            "361/361 [==============================] - 1s 2ms/step\n",
            "361/361 [==============================] - 1s 2ms/step\n",
            "\n",
            "Clean Data Accuracy: 98.64899974019225%\n",
            "Attack Success Rate: 100.0%\n",
            "Pruned Channel Index: 20\n"
          ]
        },
        {
          "output_type": "stream",
          "name": "stderr",
          "text": [
            "\r 63%|██████▎   | 38/60 [02:32<01:28,  4.03s/it]"
          ]
        },
        {
          "output_type": "stream",
          "name": "stdout",
          "text": [
            "361/361 [==============================] - 1s 2ms/step\n",
            "361/361 [==============================] - 1s 2ms/step\n",
            "\n",
            "Clean Data Accuracy: 98.6056984498138%\n",
            "Attack Success Rate: 100.0%\n",
            "Pruned Channel Index: 19\n"
          ]
        },
        {
          "output_type": "stream",
          "name": "stderr",
          "text": [
            "\r 65%|██████▌   | 39/60 [02:36<01:25,  4.05s/it]"
          ]
        },
        {
          "output_type": "stream",
          "name": "stdout",
          "text": [
            "361/361 [==============================] - 1s 2ms/step\n",
            "361/361 [==============================] - 1s 2ms/step\n"
          ]
        },
        {
          "output_type": "stream",
          "name": "stderr",
          "text": [
            "\r 67%|██████▋   | 40/60 [02:40<01:20,  4.04s/it]"
          ]
        },
        {
          "output_type": "stream",
          "name": "stdout",
          "text": [
            "\n",
            "Clean Data Accuracy: 98.57105741751104%\n",
            "Attack Success Rate: 100.0%\n",
            "Pruned Channel Index: 43\n",
            "361/361 [==============================] - 1s 2ms/step\n",
            "361/361 [==============================] - 1s 2ms/step\n",
            "\n",
            "Clean Data Accuracy: 98.53641638520828%\n",
            "Attack Success Rate: 100.0%\n",
            "Pruned Channel Index: 58\n"
          ]
        },
        {
          "output_type": "stream",
          "name": "stderr",
          "text": [
            "\r 68%|██████▊   | 41/60 [02:44<01:16,  4.04s/it]"
          ]
        },
        {
          "output_type": "stream",
          "name": "stdout",
          "text": [
            "361/361 [==============================] - 1s 2ms/step\n",
            "361/361 [==============================] - 1s 2ms/step\n",
            "\n",
            "Clean Data Accuracy: 98.19000606218066%\n",
            "Attack Success Rate: 100.0%\n",
            "Pruned Channel Index: 3\n"
          ]
        },
        {
          "output_type": "stream",
          "name": "stderr",
          "text": [
            "\r 70%|███████   | 42/60 [02:49<01:13,  4.09s/it]"
          ]
        },
        {
          "output_type": "stream",
          "name": "stdout",
          "text": [
            "361/361 [==============================] - 1s 2ms/step\n",
            "361/361 [==============================] - 1s 2ms/step\n",
            "\n",
            "Clean Data Accuracy: 97.65307006148784%\n",
            "Attack Success Rate: 100.0%\n",
            "Pruned Channel Index: 42\n"
          ]
        },
        {
          "output_type": "stream",
          "name": "stderr",
          "text": [
            "\r 72%|███████▏  | 43/60 [02:53<01:08,  4.05s/it]"
          ]
        },
        {
          "output_type": "stream",
          "name": "stdout",
          "text": [
            "361/361 [==============================] - 1s 2ms/step\n",
            "361/361 [==============================] - 1s 2ms/step\n",
            "\n",
            "Clean Data Accuracy: 97.50584567420108%\n",
            "Attack Success Rate: 100.0%\n",
            "Pruned Channel Index: 1\n"
          ]
        },
        {
          "output_type": "stream",
          "name": "stderr",
          "text": [
            "\r 73%|███████▎  | 44/60 [02:57<01:04,  4.05s/it]"
          ]
        },
        {
          "output_type": "stream",
          "name": "stdout",
          "text": [
            "361/361 [==============================] - 1s 2ms/step\n",
            "361/361 [==============================] - 1s 2ms/step\n"
          ]
        },
        {
          "output_type": "stream",
          "name": "stderr",
          "text": [
            "/usr/local/lib/python3.10/dist-packages/keras/src/engine/training.py:3079: UserWarning: You are saving your model as an HDF5 file via `model.save()`. This file format is considered legacy. We recommend using instead the native Keras format, e.g. `model.save('my_model.keras')`.\n",
            "  saving_api.save_model(\n",
            "WARNING:tensorflow:Compiled the loaded model, but the compiled metrics have yet to be built. `model.compile_metrics` will be empty until you train or evaluate the model.\n"
          ]
        },
        {
          "output_type": "stream",
          "name": "stdout",
          "text": [
            "\n",
            "Clean Data Accuracy: 95.75647354291158%\n",
            "Attack Success Rate: 100.0%\n",
            "Pruned Channel Index: 29\n",
            "Accuracy drop ≥ 2.0%. Saving model as 'model_X=2.0.h5'\n"
          ]
        },
        {
          "output_type": "stream",
          "name": "stderr",
          "text": [
            "\r 75%|███████▌  | 45/60 [03:01<01:04,  4.27s/it]"
          ]
        },
        {
          "output_type": "stream",
          "name": "stdout",
          "text": [
            "361/361 [==============================] - 1s 2ms/step\n",
            "361/361 [==============================] - 1s 2ms/step\n",
            "\n",
            "Clean Data Accuracy: 95.20221702606739%\n",
            "Attack Success Rate: 99.9913397419243%\n",
            "Pruned Channel Index: 16\n"
          ]
        },
        {
          "output_type": "stream",
          "name": "stderr",
          "text": [
            "\r 77%|███████▋  | 46/60 [03:05<00:58,  4.19s/it]"
          ]
        },
        {
          "output_type": "stream",
          "name": "stdout",
          "text": [
            "361/361 [==============================] - 1s 2ms/step\n",
            "361/361 [==============================] - 1s 2ms/step\n",
            "\n",
            "Clean Data Accuracy: 94.7172425738287%\n",
            "Attack Success Rate: 99.9913397419243%\n",
            "Pruned Channel Index: 56\n"
          ]
        },
        {
          "output_type": "stream",
          "name": "stderr",
          "text": [
            "\r 78%|███████▊  | 47/60 [03:09<00:53,  4.12s/it]"
          ]
        },
        {
          "output_type": "stream",
          "name": "stdout",
          "text": [
            "361/361 [==============================] - 1s 2ms/step\n",
            "361/361 [==============================] - 1s 2ms/step\n"
          ]
        },
        {
          "output_type": "stream",
          "name": "stderr",
          "text": [
            "WARNING:tensorflow:Compiled the loaded model, but the compiled metrics have yet to be built. `model.compile_metrics` will be empty until you train or evaluate the model.\n"
          ]
        },
        {
          "output_type": "stream",
          "name": "stdout",
          "text": [
            "\n",
            "Clean Data Accuracy: 92.09318437689443%\n",
            "Attack Success Rate: 99.9913397419243%\n",
            "Pruned Channel Index: 46\n",
            "Accuracy drop ≥ 4.0%. Saving model as 'model_X=4.0.h5'\n"
          ]
        },
        {
          "output_type": "stream",
          "name": "stderr",
          "text": [
            "\r 80%|████████  | 48/60 [03:14<00:51,  4.32s/it]"
          ]
        },
        {
          "output_type": "stream",
          "name": "stdout",
          "text": [
            "361/361 [==============================] - 1s 2ms/step\n",
            "361/361 [==============================] - 1s 2ms/step\n",
            "\n",
            "Clean Data Accuracy: 91.49562656967177%\n",
            "Attack Success Rate: 99.9913397419243%\n",
            "Pruned Channel Index: 5\n"
          ]
        },
        {
          "output_type": "stream",
          "name": "stderr",
          "text": [
            "\r 82%|████████▏ | 49/60 [03:18<00:46,  4.22s/it]"
          ]
        },
        {
          "output_type": "stream",
          "name": "stdout",
          "text": [
            "361/361 [==============================] - 1s 2ms/step\n",
            "361/361 [==============================] - 1s 2ms/step\n"
          ]
        },
        {
          "output_type": "stream",
          "name": "stderr",
          "text": [
            "\r 83%|████████▎ | 50/60 [03:22<00:41,  4.16s/it]"
          ]
        },
        {
          "output_type": "stream",
          "name": "stdout",
          "text": [
            "\n",
            "Clean Data Accuracy: 91.01931237550879%\n",
            "Attack Success Rate: 99.98267948384861%\n",
            "Pruned Channel Index: 8\n",
            "361/361 [==============================] - 1s 2ms/step\n",
            "361/361 [==============================] - 1s 2ms/step\n"
          ]
        },
        {
          "output_type": "stream",
          "name": "stderr",
          "text": [
            "\r 85%|████████▌ | 51/60 [03:26<00:37,  4.18s/it]"
          ]
        },
        {
          "output_type": "stream",
          "name": "stdout",
          "text": [
            "\n",
            "Clean Data Accuracy: 89.17467740538669%\n",
            "Attack Success Rate: 80.73958603966398%\n",
            "Pruned Channel Index: 11\n",
            "361/361 [==============================] - 1s 2ms/step\n",
            "361/361 [==============================] - 1s 2ms/step\n"
          ]
        },
        {
          "output_type": "stream",
          "name": "stderr",
          "text": [
            "WARNING:tensorflow:Compiled the loaded model, but the compiled metrics have yet to be built. `model.compile_metrics` will be empty until you train or evaluate the model.\n"
          ]
        },
        {
          "output_type": "stream",
          "name": "stdout",
          "text": [
            "\n",
            "Clean Data Accuracy: 84.43751623798389%\n",
            "Attack Success Rate: 77.015675067117%\n",
            "Pruned Channel Index: 54\n",
            "Accuracy drop ≥ 10.0%. Saving model as 'model_X=10.0.h5'\n"
          ]
        },
        {
          "output_type": "stream",
          "name": "stderr",
          "text": [
            "\r 87%|████████▋ | 52/60 [03:31<00:35,  4.44s/it]"
          ]
        },
        {
          "output_type": "stream",
          "name": "stdout",
          "text": [
            "361/361 [==============================] - 1s 2ms/step\n",
            "361/361 [==============================] - 1s 2ms/step\n",
            "\n",
            "Clean Data Accuracy: 76.48739932449988%\n",
            "Attack Success Rate: 35.71490430414826%\n",
            "Pruned Channel Index: 10\n"
          ]
        },
        {
          "output_type": "stream",
          "name": "stderr",
          "text": [
            "\r 88%|████████▊ | 53/60 [03:35<00:30,  4.32s/it]"
          ]
        },
        {
          "output_type": "stream",
          "name": "stdout",
          "text": [
            "361/361 [==============================] - 1s 2ms/step\n",
            "361/361 [==============================] - 1s 2ms/step\n"
          ]
        },
        {
          "output_type": "stream",
          "name": "stderr",
          "text": [
            "\r 90%|█████████ | 54/60 [03:40<00:25,  4.25s/it]"
          ]
        },
        {
          "output_type": "stream",
          "name": "stdout",
          "text": [
            "\n",
            "Clean Data Accuracy: 54.8627349095003%\n",
            "Attack Success Rate: 6.954187234779596%\n",
            "Pruned Channel Index: 28\n",
            "361/361 [==============================] - 1s 2ms/step\n",
            "361/361 [==============================] - 1s 2ms/step\n",
            "\n",
            "Clean Data Accuracy: 27.08928726076037%\n",
            "Attack Success Rate: 0.4243526457088421%\n",
            "Pruned Channel Index: 35\n"
          ]
        },
        {
          "output_type": "stream",
          "name": "stderr",
          "text": [
            "\r 92%|█████████▏| 55/60 [03:44<00:20,  4.19s/it]"
          ]
        },
        {
          "output_type": "stream",
          "name": "stdout",
          "text": [
            "361/361 [==============================] - 1s 2ms/step\n",
            "361/361 [==============================] - 1s 2ms/step\n",
            "\n",
            "Clean Data Accuracy: 13.87373343725643%\n",
            "Attack Success Rate: 0.0%\n",
            "Pruned Channel Index: 18\n"
          ]
        },
        {
          "output_type": "stream",
          "name": "stderr",
          "text": [
            "\r 93%|█████████▎| 56/60 [03:48<00:16,  4.13s/it]"
          ]
        },
        {
          "output_type": "stream",
          "name": "stdout",
          "text": [
            "361/361 [==============================] - 1s 2ms/step\n",
            "361/361 [==============================] - 1s 2ms/step\n"
          ]
        },
        {
          "output_type": "stream",
          "name": "stderr",
          "text": [
            "\r 95%|█████████▌| 57/60 [03:52<00:12,  4.11s/it]"
          ]
        },
        {
          "output_type": "stream",
          "name": "stdout",
          "text": [
            "\n",
            "Clean Data Accuracy: 7.101411622066338%\n",
            "Attack Success Rate: 0.0%\n",
            "Pruned Channel Index: 4\n",
            "361/361 [==============================] - 1s 2ms/step\n",
            "361/361 [==============================] - 1s 2ms/step\n"
          ]
        },
        {
          "output_type": "stream",
          "name": "stderr",
          "text": [
            "\r 97%|█████████▋| 58/60 [03:56<00:08,  4.09s/it]"
          ]
        },
        {
          "output_type": "stream",
          "name": "stdout",
          "text": [
            "\n",
            "Clean Data Accuracy: 1.5501861955486274%\n",
            "Attack Success Rate: 0.0%\n",
            "Pruned Channel Index: 7\n",
            "361/361 [==============================] - 1s 2ms/step\n",
            "361/361 [==============================] - 1s 2ms/step\n",
            "\n",
            "Clean Data Accuracy: 0.7188014202823244%\n",
            "Attack Success Rate: 0.0%\n",
            "Pruned Channel Index: 52\n"
          ]
        },
        {
          "output_type": "stream",
          "name": "stderr",
          "text": [
            "\r 98%|█████████▊| 59/60 [04:00<00:04,  4.06s/it]"
          ]
        },
        {
          "output_type": "stream",
          "name": "stdout",
          "text": [
            "361/361 [==============================] - 1s 2ms/step\n",
            "361/361 [==============================] - 1s 2ms/step\n"
          ]
        },
        {
          "output_type": "stream",
          "name": "stderr",
          "text": [
            "100%|██████████| 60/60 [04:04<00:00,  4.07s/it]"
          ]
        },
        {
          "output_type": "stream",
          "name": "stdout",
          "text": [
            "\n",
            "Clean Data Accuracy: 0.0779423226812159%\n",
            "Attack Success Rate: 0.0%\n",
            "Pruned Channel Index: 57\n"
          ]
        },
        {
          "output_type": "stream",
          "name": "stderr",
          "text": [
            "\n"
          ]
        }
      ]
    },
    {
      "cell_type": "code",
      "source": [
        "print(pruned_models)"
      ],
      "metadata": {
        "id": "32_viRxG9iy5",
        "colab": {
          "base_uri": "https://localhost:8080/"
        },
        "outputId": "34c5cbf6-ca1e-46be-fc46-920064bab521"
      },
      "execution_count": 13,
      "outputs": [
        {
          "output_type": "stream",
          "name": "stdout",
          "text": [
            "['model_X=2.0.h5', 'model_X=4.0.h5', 'model_X=10.0.h5']\n"
          ]
        }
      ]
    },
    {
      "cell_type": "markdown",
      "source": [
        "The construct_goodnet function is a novel approach to mitigating backdoor attacks in neural networks. This function creates a new model, termed 'GoodNet', which integrates predictions from the original compromised model (BadNet) and its pruned version. GoodNet compares predictions from both models and, in cases of disagreement, defaults to predicting an additional class representing the backdoor. This strategy is aimed at neutralizing the backdoor triggers while maintaining the model's performance on clean data."
      ],
      "metadata": {
        "id": "tBgsOEN3eSkj"
      }
    },
    {
      "cell_type": "code",
      "source": [
        "def construct_goodnet(badnet, pruned_badnet, n_classes):\n",
        "    def goodnet_predict(input_data):\n",
        "        pred_B = np.argmax(badnet.predict(input_data), axis=1)\n",
        "        pred_B_prime = np.argmax(pruned_badnet.predict(input_data), axis=1)\n",
        "        # If both models agree on the prediction, use it; otherwise, predict the additional class (backdoor)\n",
        "        output_pred = np.where(pred_B == pred_B_prime, pred_B, n_classes)\n",
        "        return output_pred\n",
        "\n",
        "    return goodnet_predict"
      ],
      "metadata": {
        "id": "kQY6zMPd9kfQ"
      },
      "execution_count": 14,
      "outputs": []
    },
    {
      "cell_type": "code",
      "source": [
        "# For getting back saved models and evaluating\n",
        "pruned_models = ['model_X=2.0.h5', 'model_X=4.0.h5', 'model_X=10.0.h5']"
      ],
      "metadata": {
        "id": "2mCtrPdW9mIL"
      },
      "execution_count": 15,
      "outputs": []
    },
    {
      "cell_type": "code",
      "source": [
        "# from tensorflow.keras.models import load_model\n",
        "\n",
        "# loaded_pruned_models = [load_model(filename) for filename in pruned_models]\n",
        "# # Construct a list of GoodNet models by combining BadNet with each pruned model\n",
        "# # N represents the number of classes in the dataset\n",
        "# goodnets = [construct_goodnet(badnet, loaded_pruned_model, N) for loaded_pruned_model in loaded_pruned_models]\n",
        "\n",
        "from tensorflow.keras.models import load_model\n",
        "\n",
        "# Assuming badnet is already a loaded model object\n",
        "# Load pruned models\n",
        "loaded_pruned_models = [load_model(filename) for filename in pruned_models]\n",
        "\n",
        "# Construct GoodNets with loaded models\n",
        "goodnets = [construct_goodnet(badnet, loaded_pruned_model, N) for loaded_pruned_model in loaded_pruned_models]\n"
      ],
      "metadata": {
        "id": "6rMHD-qM9n0Q",
        "colab": {
          "base_uri": "https://localhost:8080/"
        },
        "outputId": "d5fce7fd-07c9-427b-ff1a-cd682d8fa5b6"
      },
      "execution_count": 16,
      "outputs": [
        {
          "output_type": "stream",
          "name": "stderr",
          "text": [
            "WARNING:tensorflow:No training configuration found in the save file, so the model was *not* compiled. Compile it manually.\n",
            "WARNING:tensorflow:No training configuration found in the save file, so the model was *not* compiled. Compile it manually.\n",
            "WARNING:tensorflow:No training configuration found in the save file, so the model was *not* compiled. Compile it manually.\n"
          ]
        }
      ]
    },
    {
      "cell_type": "code",
      "source": [
        "for i, goodnet in enumerate(goodnets):\n",
        "    model_path = f\"models/goodnet_{i}.h5\"\n",
        "    goodnet.save(model_path)\n"
      ],
      "metadata": {
        "id": "N6XlLubM9pRA",
        "colab": {
          "base_uri": "https://localhost:8080/",
          "height": 214
        },
        "outputId": "1498cfe1-f50b-44e6-cce5-b3c6547ab18b"
      },
      "execution_count": 17,
      "outputs": [
        {
          "output_type": "error",
          "ename": "AttributeError",
          "evalue": "ignored",
          "traceback": [
            "\u001b[0;31m---------------------------------------------------------------------------\u001b[0m",
            "\u001b[0;31mAttributeError\u001b[0m                            Traceback (most recent call last)",
            "\u001b[0;32m<ipython-input-17-533bce5a4a8d>\u001b[0m in \u001b[0;36m<cell line: 1>\u001b[0;34m()\u001b[0m\n\u001b[1;32m      1\u001b[0m \u001b[0;32mfor\u001b[0m \u001b[0mi\u001b[0m\u001b[0;34m,\u001b[0m \u001b[0mgoodnet\u001b[0m \u001b[0;32min\u001b[0m \u001b[0menumerate\u001b[0m\u001b[0;34m(\u001b[0m\u001b[0mgoodnets\u001b[0m\u001b[0;34m)\u001b[0m\u001b[0;34m:\u001b[0m\u001b[0;34m\u001b[0m\u001b[0;34m\u001b[0m\u001b[0m\n\u001b[1;32m      2\u001b[0m     \u001b[0mmodel_path\u001b[0m \u001b[0;34m=\u001b[0m \u001b[0;34mf\"models/goodnet_{i}.h5\"\u001b[0m\u001b[0;34m\u001b[0m\u001b[0;34m\u001b[0m\u001b[0m\n\u001b[0;32m----> 3\u001b[0;31m     \u001b[0mgoodnet\u001b[0m\u001b[0;34m.\u001b[0m\u001b[0msave\u001b[0m\u001b[0;34m(\u001b[0m\u001b[0mmodel_path\u001b[0m\u001b[0;34m)\u001b[0m\u001b[0;34m\u001b[0m\u001b[0;34m\u001b[0m\u001b[0m\n\u001b[0m",
            "\u001b[0;31mAttributeError\u001b[0m: 'function' object has no attribute 'save'"
          ]
        }
      ]
    },
    {
      "cell_type": "markdown",
      "source": [
        "In this part of the code, the eval_goodnet function is introduced to evaluate the effectiveness of GoodNet models. This function tests the GoodNet on both clean and poisoned datasets. It calculates the accuracy of the GoodNet on clean data, reflecting its ability to perform standard classification tasks. Additionally, it computes the detection rate of the poisoned data, indicating the effectiveness of GoodNet in identifying and countering backdoor attacks. The results from this evaluation provide insights into the balance achieved between maintaining classification accuracy and mitigating backdoor threats."
      ],
      "metadata": {
        "id": "M8SlVb6DeWV1"
      }
    },
    {
      "cell_type": "code",
      "source": [
        "def eval_goodnet(goodnet, x_clean_test, y_clean_test, x_poisoned_test, y_poisoned_test, n_classes):\n",
        "\n",
        "    clean_pred = goodnet(x_clean_test)\n",
        "    poisoned_pred = goodnet(x_poisoned_test)\n",
        "    # Calculating accuracy on clean test data\n",
        "    clean_accuracy = np.mean(clean_pred == y_clean_test)\n",
        "    # Calculating detection rate of poisoned data (assuming correct labels are known)\\\n",
        "    detection_rate = np.mean(poisoned_pred == y_poisoned_test)\n",
        "    return clean_accuracy, detection_rate"
      ],
      "metadata": {
        "id": "kKtH-ytR9qqI"
      },
      "execution_count": 18,
      "outputs": []
    },
    {
      "cell_type": "code",
      "source": [
        "x_clean_test, y_clean_test = load_data(clean_test_path)\n",
        "x_poisoned_test, y_poisoned_test = load_data(bad_test_path)"
      ],
      "metadata": {
        "id": "isw8ytKl9sBA"
      },
      "execution_count": 19,
      "outputs": []
    },
    {
      "cell_type": "code",
      "source": [
        "# Evaluating each GoodNet model in the list 'goodnets'\n",
        "for i, goodnet in enumerate(goodnets):\n",
        "    # Evaluate GoodNet on both clean and poisoned test data\n",
        "    accuracy, detection_rate = eval_goodnet(\n",
        "        goodnet, x_clean_test, y_clean_test, x_poisoned_test, y_poisoned_test, N+1\n",
        "    )\n",
        "    print(f\"GoodNet {i}: Accuracy = {accuracy*100:.2f}%, Detection Rate = {detection_rate*100:.2f}%\")"
      ],
      "metadata": {
        "id": "nkGSRW0v9tYP",
        "colab": {
          "base_uri": "https://localhost:8080/"
        },
        "outputId": "c651b084-2d48-452f-e22f-7273641ca009"
      },
      "execution_count": 20,
      "outputs": [
        {
          "output_type": "stream",
          "name": "stdout",
          "text": [
            "401/401 [==============================] - 1s 2ms/step\n",
            "401/401 [==============================] - 1s 2ms/step\n",
            "401/401 [==============================] - 1s 2ms/step\n",
            "401/401 [==============================] - 1s 2ms/step\n",
            "GoodNet 0: Accuracy = 95.74%, Detection Rate = 100.00%\n",
            "401/401 [==============================] - 1s 2ms/step\n",
            "401/401 [==============================] - 1s 2ms/step\n",
            "401/401 [==============================] - 1s 2ms/step\n",
            "401/401 [==============================] - 1s 2ms/step\n",
            "GoodNet 1: Accuracy = 92.13%, Detection Rate = 99.98%\n",
            "401/401 [==============================] - 1s 2ms/step\n",
            "401/401 [==============================] - 1s 2ms/step\n",
            "401/401 [==============================] - 1s 2ms/step\n",
            "401/401 [==============================] - 1s 2ms/step\n",
            "GoodNet 2: Accuracy = 84.33%, Detection Rate = 77.21%\n"
          ]
        }
      ]
    }
  ]
}